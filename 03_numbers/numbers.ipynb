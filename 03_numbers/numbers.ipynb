{
 "cells": [
  {
   "cell_type": "code",
   "execution_count": 2,
   "id": "02e1c2ad",
   "metadata": {},
   "outputs": [
    {
     "data": {
      "text/plain": [
       "5"
      ]
     },
     "execution_count": 2,
     "metadata": {},
     "output_type": "execute_result"
    }
   ],
   "source": [
    "x = 2\n",
    "y = 3\n",
    "z = 4\n",
    "\n",
    "x+y"
   ]
  },
  {
   "cell_type": "code",
   "execution_count": 4,
   "id": "95351304",
   "metadata": {},
   "outputs": [
    {
     "data": {
      "text/plain": [
       "73.44"
      ]
     },
     "execution_count": 4,
     "metadata": {},
     "output_type": "execute_result"
    }
   ],
   "source": [
    "40 + 33.44"
   ]
  },
  {
   "cell_type": "code",
   "execution_count": 7,
   "id": "686f2d0c",
   "metadata": {},
   "outputs": [],
   "source": [
    "# 'sameer' + 22\n",
    "\n",
    "# TypeError                                 Traceback (most recent call last)\n",
    "# Cell In[5], line 1\n",
    "# ----> 1 'sameer' + 22\n",
    "\n",
    "# TypeError: can only concatenate str (not \"int\") to str"
   ]
  },
  {
   "cell_type": "code",
   "execution_count": 8,
   "id": "38a657f3",
   "metadata": {},
   "outputs": [
    {
     "data": {
      "text/plain": [
       "3"
      ]
     },
     "execution_count": 8,
     "metadata": {},
     "output_type": "execute_result"
    }
   ],
   "source": [
    "int(3.344)"
   ]
  },
  {
   "cell_type": "code",
   "execution_count": 10,
   "id": "92c427b2",
   "metadata": {},
   "outputs": [
    {
     "data": {
      "text/plain": [
       "55.2"
      ]
     },
     "execution_count": 10,
     "metadata": {},
     "output_type": "execute_result"
    }
   ],
   "source": [
    "# IT IS BETTER TO USE TYPE OF VALUE THAT YOU WANT TO USE AS \n",
    "float(33.2) + 22"
   ]
  },
  {
   "cell_type": "code",
   "execution_count": 12,
   "id": "eddc3d09",
   "metadata": {},
   "outputs": [
    {
     "data": {
      "text/plain": [
       "'chaicode'"
      ]
     },
     "execution_count": 12,
     "metadata": {},
     "output_type": "execute_result"
    }
   ],
   "source": [
    "'chai' + 'code'"
   ]
  },
  {
   "cell_type": "code",
   "execution_count": 14,
   "id": "e8594063",
   "metadata": {},
   "outputs": [
    {
     "data": {
      "text/plain": [
       "(2, 3, 2)"
      ]
     },
     "execution_count": 14,
     "metadata": {},
     "output_type": "execute_result"
    }
   ],
   "source": [
    "(x,y,x)"
   ]
  },
  {
   "cell_type": "code",
   "execution_count": 16,
   "id": "7b618f43",
   "metadata": {},
   "outputs": [
    {
     "data": {
      "text/plain": [
       "(3, 6, 2.0)"
      ]
     },
     "execution_count": 16,
     "metadata": {},
     "output_type": "execute_result"
    }
   ],
   "source": [
    "x+1,y*2,z/2"
   ]
  },
  {
   "cell_type": "code",
   "execution_count": 18,
   "id": "c1e61275",
   "metadata": {},
   "outputs": [
    {
     "data": {
      "text/plain": [
       "10000"
      ]
     },
     "execution_count": 18,
     "metadata": {},
     "output_type": "execute_result"
    }
   ],
   "source": [
    "100 ** 2"
   ]
  },
  {
   "cell_type": "code",
   "execution_count": 20,
   "id": "eb593acc",
   "metadata": {},
   "outputs": [
    {
     "data": {
      "text/plain": [
       "1267650600228229401496703205376"
      ]
     },
     "execution_count": 20,
     "metadata": {},
     "output_type": "execute_result"
    }
   ],
   "source": [
    "2 ** 100"
   ]
  },
  {
   "cell_type": "code",
   "execution_count": 22,
   "id": "0f7b794a",
   "metadata": {},
   "outputs": [
    {
     "data": {
      "text/plain": [
       "10715086071862673209484250490600018105614048117055336074437503883703510511249361224931983788156958581275946729175531468251871452856923140435984577574698574803934567774824230985421074605062371141877954182153046474983581941267398767559165543946077062914571196477686542167660429831652624386837205668069376"
      ]
     },
     "execution_count": 22,
     "metadata": {},
     "output_type": "execute_result"
    }
   ],
   "source": [
    "2 ** 1000   "
   ]
  },
  {
   "cell_type": "code",
   "execution_count": 24,
   "id": "5f39ed6f",
   "metadata": {},
   "outputs": [
    {
     "data": {
      "text/plain": [
       "0.3333333333333333"
      ]
     },
     "execution_count": 24,
     "metadata": {},
     "output_type": "execute_result"
    }
   ],
   "source": [
    "result = 1/3.0\n",
    "result"
   ]
  },
  {
   "cell_type": "markdown",
   "id": "e21b349f",
   "metadata": {},
   "source": [
    "CHECK THESE THREE LINES AND DIFFERENCE "
   ]
  },
  {
   "cell_type": "code",
   "execution_count": 26,
   "id": "3792bbd6",
   "metadata": {},
   "outputs": [
    {
     "data": {
      "text/plain": [
       "\"'chaiaurcode'\""
      ]
     },
     "execution_count": 26,
     "metadata": {},
     "output_type": "execute_result"
    }
   ],
   "source": [
    "repr('chaiaurcode')"
   ]
  },
  {
   "cell_type": "code",
   "execution_count": 28,
   "id": "b6820c99",
   "metadata": {},
   "outputs": [
    {
     "data": {
      "text/plain": [
       "'chaiaurcode'"
      ]
     },
     "execution_count": 28,
     "metadata": {},
     "output_type": "execute_result"
    }
   ],
   "source": [
    "str(\"chaiaurcode\")"
   ]
  },
  {
   "cell_type": "code",
   "execution_count": 30,
   "id": "8dbb2bad",
   "metadata": {},
   "outputs": [
    {
     "name": "stdout",
     "output_type": "stream",
     "text": [
      "chaiaurcode\n"
     ]
    }
   ],
   "source": [
    "print(\"chaiaurcode\")"
   ]
  },
  {
   "cell_type": "code",
   "execution_count": 32,
   "id": "fdc74403",
   "metadata": {},
   "outputs": [
    {
     "data": {
      "text/plain": [
       "True"
      ]
     },
     "execution_count": 32,
     "metadata": {},
     "output_type": "execute_result"
    }
   ],
   "source": [
    "1 < 2"
   ]
  },
  {
   "cell_type": "code",
   "execution_count": 34,
   "id": "da0ddc16",
   "metadata": {},
   "outputs": [
    {
     "data": {
      "text/plain": [
       "True"
      ]
     },
     "execution_count": 34,
     "metadata": {},
     "output_type": "execute_result"
    }
   ],
   "source": [
    "5.0 == 5.0"
   ]
  },
  {
   "cell_type": "code",
   "execution_count": 36,
   "id": "14ad2a16",
   "metadata": {},
   "outputs": [
    {
     "data": {
      "text/plain": [
       "True"
      ]
     },
     "execution_count": 36,
     "metadata": {},
     "output_type": "execute_result"
    }
   ],
   "source": [
    "5.0 != 4.0"
   ]
  },
  {
   "cell_type": "code",
   "execution_count": 38,
   "id": "97db8b94",
   "metadata": {},
   "outputs": [
    {
     "data": {
      "text/plain": [
       "(2, 3, 4)"
      ]
     },
     "execution_count": 38,
     "metadata": {},
     "output_type": "execute_result"
    }
   ],
   "source": [
    "x,y,z"
   ]
  },
  {
   "cell_type": "code",
   "execution_count": 40,
   "id": "319f214c",
   "metadata": {},
   "outputs": [
    {
     "data": {
      "text/plain": [
       "True"
      ]
     },
     "execution_count": 40,
     "metadata": {},
     "output_type": "execute_result"
    }
   ],
   "source": [
    "x < y < z\n",
    "# x < y and y < z both are same"
   ]
  },
  {
   "cell_type": "code",
   "execution_count": 43,
   "id": "144d0e9a",
   "metadata": {},
   "outputs": [
    {
     "data": {
      "text/plain": [
       "False"
      ]
     },
     "execution_count": 43,
     "metadata": {},
     "output_type": "execute_result"
    }
   ],
   "source": [
    "1 == 2 < 3\n",
    "# 1 == 2 and 2 < 3 both are same"
   ]
  },
  {
   "cell_type": "markdown",
   "id": "6c179e6a",
   "metadata": {},
   "source": [
    "MATH LIBRARY COMMONLY USED"
   ]
  },
  {
   "cell_type": "code",
   "execution_count": 50,
   "id": "15e20f2b",
   "metadata": {},
   "outputs": [
    {
     "name": "stdout",
     "output_type": "stream",
     "text": [
      "3\n",
      "-4\n"
     ]
    }
   ],
   "source": [
    "import math\n",
    "print(math.floor(3.4))\n",
    "print(math.floor(-3.4))\n"
   ]
  },
  {
   "cell_type": "code",
   "execution_count": 53,
   "id": "7810d8d6",
   "metadata": {},
   "outputs": [
    {
     "name": "stdout",
     "output_type": "stream",
     "text": [
      "2\n",
      "-2\n"
     ]
    }
   ],
   "source": [
    "print(math.trunc(2.8))\n",
    "print(math.trunc(-2.8))"
   ]
  },
  {
   "cell_type": "code",
   "execution_count": 55,
   "id": "8c55b65c",
   "metadata": {},
   "outputs": [
    {
     "data": {
      "text/plain": [
       "1000000000000000000000000000"
      ]
     },
     "execution_count": 55,
     "metadata": {},
     "output_type": "execute_result"
    }
   ],
   "source": [
    "999999999999999999999999999 + 1"
   ]
  },
  {
   "cell_type": "code",
   "execution_count": 57,
   "id": "bcbf355b",
   "metadata": {},
   "outputs": [
    {
     "data": {
      "text/plain": [
       "2.1e+30"
      ]
     },
     "execution_count": 57,
     "metadata": {},
     "output_type": "execute_result"
    }
   ],
   "source": [
    "999999999999999999999999999999 * 2.1"
   ]
  },
  {
   "cell_type": "code",
   "execution_count": 59,
   "id": "8b73b62c",
   "metadata": {},
   "outputs": [
    {
     "data": {
      "text/plain": [
       "(2+1j)"
      ]
     },
     "execution_count": 59,
     "metadata": {},
     "output_type": "execute_result"
    }
   ],
   "source": [
    "2+1j"
   ]
  },
  {
   "cell_type": "code",
   "execution_count": 61,
   "id": "6196a266",
   "metadata": {},
   "outputs": [
    {
     "data": {
      "text/plain": [
       "(2+3j)"
      ]
     },
     "execution_count": 61,
     "metadata": {},
     "output_type": "execute_result"
    }
   ],
   "source": [
    "2 + 1j * 3"
   ]
  },
  {
   "cell_type": "code",
   "execution_count": 62,
   "id": "360b2a97",
   "metadata": {},
   "outputs": [
    {
     "data": {
      "text/plain": [
       "(6+3j)"
      ]
     },
     "execution_count": 62,
     "metadata": {},
     "output_type": "execute_result"
    }
   ],
   "source": [
    "(2+1j) * 3"
   ]
  },
  {
   "cell_type": "markdown",
   "id": "0ed7471f",
   "metadata": {},
   "source": [
    "OCTAL LITERAL"
   ]
  },
  {
   "cell_type": "code",
   "execution_count": 63,
   "id": "5e7bdb3a",
   "metadata": {},
   "outputs": [
    {
     "data": {
      "text/plain": [
       "16"
      ]
     },
     "execution_count": 63,
     "metadata": {},
     "output_type": "execute_result"
    }
   ],
   "source": [
    "0o20"
   ]
  },
  {
   "cell_type": "markdown",
   "id": "8720c742",
   "metadata": {},
   "source": [
    "HEXAL LITERAL"
   ]
  },
  {
   "cell_type": "code",
   "execution_count": 65,
   "id": "d3aa7042",
   "metadata": {},
   "outputs": [
    {
     "data": {
      "text/plain": [
       "255"
      ]
     },
     "execution_count": 65,
     "metadata": {},
     "output_type": "execute_result"
    }
   ],
   "source": [
    "0xFF"
   ]
  },
  {
   "cell_type": "markdown",
   "id": "dbdf0b56",
   "metadata": {},
   "source": [
    "BINARY REP"
   ]
  },
  {
   "cell_type": "code",
   "execution_count": 66,
   "id": "bd3eb0dd",
   "metadata": {},
   "outputs": [
    {
     "data": {
      "text/plain": [
       "8"
      ]
     },
     "execution_count": 66,
     "metadata": {},
     "output_type": "execute_result"
    }
   ],
   "source": [
    "0b1000"
   ]
  },
  {
   "cell_type": "code",
   "execution_count": 68,
   "id": "84aaae5b",
   "metadata": {},
   "outputs": [
    {
     "data": {
      "text/plain": [
       "'0o100'"
      ]
     },
     "execution_count": 68,
     "metadata": {},
     "output_type": "execute_result"
    }
   ],
   "source": [
    "oct(64)"
   ]
  },
  {
   "cell_type": "code",
   "execution_count": 70,
   "id": "c4337ab8",
   "metadata": {},
   "outputs": [
    {
     "data": {
      "text/plain": [
       "'0x40'"
      ]
     },
     "execution_count": 70,
     "metadata": {},
     "output_type": "execute_result"
    }
   ],
   "source": [
    "hex(64)"
   ]
  },
  {
   "cell_type": "code",
   "execution_count": 71,
   "id": "67baf152",
   "metadata": {},
   "outputs": [
    {
     "data": {
      "text/plain": [
       "'0b1000000'"
      ]
     },
     "execution_count": 71,
     "metadata": {},
     "output_type": "execute_result"
    }
   ],
   "source": [
    "bin(64)"
   ]
  },
  {
   "cell_type": "code",
   "execution_count": 72,
   "id": "99f61565",
   "metadata": {},
   "outputs": [
    {
     "data": {
      "text/plain": [
       "52"
      ]
     },
     "execution_count": 72,
     "metadata": {},
     "output_type": "execute_result"
    }
   ],
   "source": [
    "int('64',8)"
   ]
  },
  {
   "cell_type": "code",
   "execution_count": 74,
   "id": "2043acbf",
   "metadata": {},
   "outputs": [
    {
     "data": {
      "text/plain": [
       "100"
      ]
     },
     "execution_count": 74,
     "metadata": {},
     "output_type": "execute_result"
    }
   ],
   "source": [
    "int('64',16)"
   ]
  },
  {
   "cell_type": "code",
   "execution_count": 76,
   "id": "81dca57d",
   "metadata": {},
   "outputs": [
    {
     "data": {
      "text/plain": [
       "16"
      ]
     },
     "execution_count": 76,
     "metadata": {},
     "output_type": "execute_result"
    }
   ],
   "source": [
    "int('10000',2)"
   ]
  },
  {
   "cell_type": "code",
   "execution_count": 79,
   "id": "a7f89644",
   "metadata": {},
   "outputs": [
    {
     "data": {
      "text/plain": [
       "40"
      ]
     },
     "execution_count": 79,
     "metadata": {},
     "output_type": "execute_result"
    }
   ],
   "source": [
    "m = 10\n",
    "m << 2"
   ]
  },
  {
   "cell_type": "code",
   "execution_count": 83,
   "id": "d813f619",
   "metadata": {},
   "outputs": [
    {
     "data": {
      "text/plain": [
       "2"
      ]
     },
     "execution_count": 83,
     "metadata": {},
     "output_type": "execute_result"
    }
   ],
   "source": [
    "# x | 2\n",
    "m & 2"
   ]
  },
  {
   "cell_type": "markdown",
   "id": "664c3d3c",
   "metadata": {},
   "source": [
    "RANDOM NUMBER "
   ]
  },
  {
   "cell_type": "code",
   "execution_count": 85,
   "id": "1e6912da",
   "metadata": {},
   "outputs": [
    {
     "data": {
      "text/plain": [
       "0.3376775489987529"
      ]
     },
     "execution_count": 85,
     "metadata": {},
     "output_type": "execute_result"
    }
   ],
   "source": [
    "import random\n",
    "random.random()"
   ]
  },
  {
   "cell_type": "code",
   "execution_count": 91,
   "id": "30980cfc",
   "metadata": {},
   "outputs": [
    {
     "data": {
      "text/plain": [
       "63"
      ]
     },
     "execution_count": 91,
     "metadata": {},
     "output_type": "execute_result"
    }
   ],
   "source": [
    "random.randint(1, 100)"
   ]
  },
  {
   "cell_type": "code",
   "execution_count": 98,
   "id": "55c5542f",
   "metadata": {},
   "outputs": [
    {
     "data": {
      "text/plain": [
       "6"
      ]
     },
     "execution_count": 98,
     "metadata": {},
     "output_type": "execute_result"
    }
   ],
   "source": [
    "random.choice([1, 2, 3, 4, 5,6,7,8,9,10])"
   ]
  },
  {
   "cell_type": "code",
   "execution_count": 103,
   "id": "326862a0",
   "metadata": {},
   "outputs": [
    {
     "data": {
      "text/plain": [
       "'apple'"
      ]
     },
     "execution_count": 103,
     "metadata": {},
     "output_type": "execute_result"
    }
   ],
   "source": [
    "l1 = [\"lemon\", \"orange\", \"apple\", \"banana\"]\n",
    "random.choice(l1)"
   ]
  },
  {
   "cell_type": "code",
   "execution_count": 113,
   "id": "4f265ff2",
   "metadata": {},
   "outputs": [
    {
     "data": {
      "text/plain": [
       "['lemon', 'banana', 'orange', 'apple']"
      ]
     },
     "execution_count": 113,
     "metadata": {},
     "output_type": "execute_result"
    }
   ],
   "source": [
    "random.shuffle(l1)\n",
    "l1"
   ]
  },
  {
   "cell_type": "code",
   "execution_count": 120,
   "id": "5a266fd8",
   "metadata": {},
   "outputs": [
    {
     "data": {
      "text/plain": [
       "5.551115123125783e-17"
      ]
     },
     "execution_count": 120,
     "metadata": {},
     "output_type": "execute_result"
    }
   ],
   "source": [
    "0.1 + 0.1 + 0.1 - 0.3"
   ]
  },
  {
   "cell_type": "code",
   "execution_count": 121,
   "id": "0b99e733",
   "metadata": {},
   "outputs": [
    {
     "data": {
      "text/plain": [
       "0.10000000000000003"
      ]
     },
     "execution_count": 121,
     "metadata": {},
     "output_type": "execute_result"
    }
   ],
   "source": [
    "(0.1 + 0.2 + 0.1) - 0.3"
   ]
  },
  {
   "cell_type": "code",
   "execution_count": 123,
   "id": "1752f269",
   "metadata": {},
   "outputs": [
    {
     "data": {
      "text/plain": [
       "Decimal('0.1')"
      ]
     },
     "execution_count": 123,
     "metadata": {},
     "output_type": "execute_result"
    }
   ],
   "source": [
    "from decimal import Decimal\n",
    "Decimal('0.1') + Decimal('0.2') + Decimal('0.1') - Decimal('0.3')"
   ]
  },
  {
   "cell_type": "code",
   "execution_count": 124,
   "id": "a5fc1d08",
   "metadata": {},
   "outputs": [
    {
     "data": {
      "text/plain": [
       "Fraction(2, 7)"
      ]
     },
     "execution_count": 124,
     "metadata": {},
     "output_type": "execute_result"
    }
   ],
   "source": [
    "from fractions import Fraction\n",
    "myFra = Fraction(2,7)\n",
    "myFra"
   ]
  }
 ],
 "metadata": {
  "kernelspec": {
   "display_name": "Python 3",
   "language": "python",
   "name": "python3"
  },
  "language_info": {
   "codemirror_mode": {
    "name": "ipython",
    "version": 3
   },
   "file_extension": ".py",
   "mimetype": "text/x-python",
   "name": "python",
   "nbconvert_exporter": "python",
   "pygments_lexer": "ipython3",
   "version": "3.13.2"
  }
 },
 "nbformat": 4,
 "nbformat_minor": 5
}
