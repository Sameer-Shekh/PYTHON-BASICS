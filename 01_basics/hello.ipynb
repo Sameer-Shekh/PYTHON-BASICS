{
 "cells": [
  {
   "cell_type": "code",
   "execution_count": 1,
   "id": "d5ee6f1b",
   "metadata": {},
   "outputs": [
    {
     "name": "stdout",
     "output_type": "stream",
     "text": [
      "hello python\n"
     ]
    }
   ],
   "source": [
    "print(\"hello python\")"
   ]
  },
  {
   "cell_type": "code",
   "execution_count": 2,
   "id": "c3012819",
   "metadata": {},
   "outputs": [
    {
     "name": "stdout",
     "output_type": "stream",
     "text": [
      "Hello, Alice!\n"
     ]
    }
   ],
   "source": [
    "def greet(name):\n",
    "    print(f\"Hello, {name}!\")\n",
    "\n",
    "greet(\"Alice\")"
   ]
  },
  {
   "cell_type": "code",
   "execution_count": 1,
   "id": "485aa7cc",
   "metadata": {},
   "outputs": [
    {
     "data": {
      "text/plain": [
       "'c:\\\\Users\\\\Asus\\\\OneDrive\\\\Desktop\\\\PYTHON FULL COURSE\\\\01_basics'"
      ]
     },
     "execution_count": 1,
     "metadata": {},
     "output_type": "execute_result"
    }
   ],
   "source": [
    "import os\n",
    "os.getcwd()"
   ]
  },
  {
   "cell_type": "code",
   "execution_count": 4,
   "id": "9b326356",
   "metadata": {},
   "outputs": [
    {
     "name": "stdout",
     "output_type": "stream",
     "text": [
      "h\n",
      "e\n",
      "l\n",
      "l\n",
      "o\n"
     ]
    }
   ],
   "source": [
    "for c in \"hello\":\n",
    "    print(c)"
   ]
  },
  {
   "cell_type": "code",
   "execution_count": 6,
   "id": "cbedcf4d",
   "metadata": {},
   "outputs": [
    {
     "data": {
      "text/plain": [
       "'win32'"
      ]
     },
     "execution_count": 6,
     "metadata": {},
     "output_type": "execute_result"
    }
   ],
   "source": [
    "import sys\n",
    "sys.platform"
   ]
  },
  {
   "cell_type": "code",
   "execution_count": 9,
   "id": "d6a9f4ae",
   "metadata": {},
   "outputs": [
    {
     "name": "stdout",
     "output_type": "stream",
     "text": [
      "Mint Chai\n"
     ]
    }
   ],
   "source": [
    "import hello\n",
    "hello.chai(\"Mint Chai\")"
   ]
  },
  {
   "cell_type": "code",
   "execution_count": 13,
   "id": "6ab94d5d",
   "metadata": {},
   "outputs": [],
   "source": [
    "# hello.chai_one\n",
    "\n",
    "# error\n",
    "\n",
    "# AttributeError                            Traceback (most recent call last)\n",
    "# Cell In[12], line 1\n",
    "# ----> 1 hello.chai_one\n",
    "\n",
    "# AttributeError: module 'hello' has no attribute 'chai_one'"
   ]
  },
  {
   "cell_type": "code",
   "execution_count": 14,
   "id": "010682e5",
   "metadata": {},
   "outputs": [
    {
     "name": "stdout",
     "output_type": "stream",
     "text": [
      "Chai Aur Python\n",
      "hello lemon tea\n"
     ]
    },
    {
     "data": {
      "text/plain": [
       "<module 'hello' from 'c:\\\\Users\\\\Asus\\\\OneDrive\\\\Desktop\\\\PYTHON FULL COURSE\\\\01_basics\\\\hello.py'>"
      ]
     },
     "execution_count": 14,
     "metadata": {},
     "output_type": "execute_result"
    }
   ],
   "source": [
    "from importlib import reload\n",
    "reload(hello)\n"
   ]
  },
  {
   "cell_type": "code",
   "execution_count": 15,
   "id": "ad064841",
   "metadata": {},
   "outputs": [
    {
     "data": {
      "text/plain": [
       "'lemon tea'"
      ]
     },
     "execution_count": 15,
     "metadata": {},
     "output_type": "execute_result"
    }
   ],
   "source": [
    "hello.chai_one "
   ]
  },
  {
   "cell_type": "code",
   "execution_count": 16,
   "id": "434a3616",
   "metadata": {},
   "outputs": [
    {
     "data": {
      "text/plain": [
       "'masala chai'"
      ]
     },
     "execution_count": 16,
     "metadata": {},
     "output_type": "execute_result"
    }
   ],
   "source": [
    "hello.chai_three"
   ]
  }
 ],
 "metadata": {
  "kernelspec": {
   "display_name": "Python 3",
   "language": "python",
   "name": "python3"
  },
  "language_info": {
   "codemirror_mode": {
    "name": "ipython",
    "version": 3
   },
   "file_extension": ".py",
   "mimetype": "text/x-python",
   "name": "python",
   "nbconvert_exporter": "python",
   "pygments_lexer": "ipython3",
   "version": "3.13.2"
  }
 },
 "nbformat": 4,
 "nbformat_minor": 5
}
