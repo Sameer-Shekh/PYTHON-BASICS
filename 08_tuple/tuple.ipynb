{
 "cells": [
  {
   "cell_type": "markdown",
   "id": "7265f878",
   "metadata": {},
   "source": [
    "TUPLE IMMUTABLE CAN NOT BE MODIFIED"
   ]
  },
  {
   "cell_type": "code",
   "execution_count": 2,
   "id": "d0827eb8",
   "metadata": {},
   "outputs": [
    {
     "data": {
      "text/plain": [
       "('Black', 'Green', 'Lemon')"
      ]
     },
     "execution_count": 2,
     "metadata": {},
     "output_type": "execute_result"
    }
   ],
   "source": [
    "tea_type = (\"Black\",\"Green\",\"Lemon\")\n",
    "tea_type\n"
   ]
  },
  {
   "cell_type": "code",
   "execution_count": 4,
   "id": "4e516aea",
   "metadata": {},
   "outputs": [
    {
     "data": {
      "text/plain": [
       "'Black'"
      ]
     },
     "execution_count": 4,
     "metadata": {},
     "output_type": "execute_result"
    }
   ],
   "source": [
    "tea_type[0]"
   ]
  },
  {
   "cell_type": "code",
   "execution_count": 6,
   "id": "71ccbaf8",
   "metadata": {},
   "outputs": [
    {
     "data": {
      "text/plain": [
       "'Lemon'"
      ]
     },
     "execution_count": 6,
     "metadata": {},
     "output_type": "execute_result"
    }
   ],
   "source": [
    "tea_type[-1]\n"
   ]
  },
  {
   "cell_type": "code",
   "execution_count": 7,
   "id": "903a5a51",
   "metadata": {},
   "outputs": [
    {
     "data": {
      "text/plain": [
       "('Green', 'Lemon')"
      ]
     },
     "execution_count": 7,
     "metadata": {},
     "output_type": "execute_result"
    }
   ],
   "source": [
    "tea_type[1:]"
   ]
  },
  {
   "cell_type": "code",
   "execution_count": 10,
   "id": "40a4258d",
   "metadata": {},
   "outputs": [],
   "source": [
    "# tea_type[0] = \"sammer\"\n",
    "\n",
    "# TypeError                                 Traceback (most recent call last)\n",
    "# Cell In[9], line 1\n",
    "# ----> 1 tea_type[0] = \"sammer\"\n",
    "\n",
    "# TypeError: 'tuple' object does not support item assignment"
   ]
  },
  {
   "cell_type": "code",
   "execution_count": 12,
   "id": "6cbabb51",
   "metadata": {},
   "outputs": [
    {
     "data": {
      "text/plain": [
       "('herbal', 'earl gray', 'Black', 'Green', 'Lemon')"
      ]
     },
     "execution_count": 12,
     "metadata": {},
     "output_type": "execute_result"
    }
   ],
   "source": [
    "more_tea = (\"herbal\",\"earl gray\")\n",
    "\n",
    "all_tea = more_tea + tea_type\n",
    "\n",
    "all_tea"
   ]
  },
  {
   "cell_type": "code",
   "execution_count": 13,
   "id": "09b18b6e",
   "metadata": {},
   "outputs": [
    {
     "name": "stdout",
     "output_type": "stream",
     "text": [
      "I have herbal tea\n"
     ]
    }
   ],
   "source": [
    "if \"herbal\" in all_tea:\n",
    "    print(\"I have herbal tea\")"
   ]
  },
  {
   "cell_type": "code",
   "execution_count": 14,
   "id": "20ad9c57",
   "metadata": {},
   "outputs": [
    {
     "data": {
      "text/plain": [
       "1"
      ]
     },
     "execution_count": 14,
     "metadata": {},
     "output_type": "execute_result"
    }
   ],
   "source": [
    "all_tea.count(\"herbal\")"
   ]
  },
  {
   "cell_type": "code",
   "execution_count": 16,
   "id": "1f838e75",
   "metadata": {},
   "outputs": [
    {
     "data": {
      "text/plain": [
       "('Black', 'Green', 'Lemon')"
      ]
     },
     "execution_count": 16,
     "metadata": {},
     "output_type": "execute_result"
    }
   ],
   "source": [
    "tea_type"
   ]
  },
  {
   "cell_type": "code",
   "execution_count": 17,
   "id": "68f25eb7",
   "metadata": {},
   "outputs": [
    {
     "data": {
      "text/plain": [
       "'Green'"
      ]
     },
     "execution_count": 17,
     "metadata": {},
     "output_type": "execute_result"
    }
   ],
   "source": [
    "(herbal,blue,red) = tea_type\n",
    "blue"
   ]
  },
  {
   "cell_type": "code",
   "execution_count": 18,
   "id": "4f94b089",
   "metadata": {},
   "outputs": [
    {
     "data": {
      "text/plain": [
       "tuple"
      ]
     },
     "execution_count": 18,
     "metadata": {},
     "output_type": "execute_result"
    }
   ],
   "source": [
    "type(tea_type)"
   ]
  }
 ],
 "metadata": {
  "kernelspec": {
   "display_name": "Python 3",
   "language": "python",
   "name": "python3"
  },
  "language_info": {
   "codemirror_mode": {
    "name": "ipython",
    "version": 3
   },
   "file_extension": ".py",
   "mimetype": "text/x-python",
   "name": "python",
   "nbconvert_exporter": "python",
   "pygments_lexer": "ipython3",
   "version": "3.13.2"
  }
 },
 "nbformat": 4,
 "nbformat_minor": 5
}
