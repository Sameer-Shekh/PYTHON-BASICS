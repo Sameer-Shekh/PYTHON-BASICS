{
 "cells": [
  {
   "cell_type": "markdown",
   "id": "77e5f2e2",
   "metadata": {},
   "source": [
    "1. SOLUTION"
   ]
  },
  {
   "cell_type": "code",
   "execution_count": 3,
   "id": "f2828803",
   "metadata": {},
   "outputs": [],
   "source": [
    "# def square_of_num(number):\n",
    "#     print(number ** 2)\n",
    "\n",
    "# # square_of_num(4)\n",
    "# result = square_of_num(4)\n",
    "# print(result)\n",
    "# OUTPUT:-\n",
    "# 16\n",
    "# None"
   ]
  },
  {
   "cell_type": "code",
   "execution_count": 5,
   "id": "65fab1ed",
   "metadata": {},
   "outputs": [
    {
     "name": "stdout",
     "output_type": "stream",
     "text": [
      "16\n"
     ]
    }
   ],
   "source": [
    "def square_of_num(number):\n",
    "    return number ** 2\n",
    "\n",
    "result = square_of_num(4)\n",
    "print(result)"
   ]
  },
  {
   "cell_type": "markdown",
   "id": "6980bcdf",
   "metadata": {},
   "source": [
    "2. SOLUTION"
   ]
  },
  {
   "cell_type": "code",
   "execution_count": 6,
   "id": "26d15de8",
   "metadata": {},
   "outputs": [
    {
     "name": "stdout",
     "output_type": "stream",
     "text": [
      "10\n"
     ]
    }
   ],
   "source": [
    "def add(num1,num2):\n",
    "    return num1 + num2\n",
    "\n",
    "res = add(5,5)\n",
    "print(res)"
   ]
  },
  {
   "cell_type": "markdown",
   "id": "1389a0f6",
   "metadata": {},
   "source": [
    "3. SOLUTION"
   ]
  },
  {
   "cell_type": "code",
   "execution_count": 7,
   "id": "df1b225c",
   "metadata": {},
   "outputs": [
    {
     "name": "stdout",
     "output_type": "stream",
     "text": [
      "40\n",
      "aaaaa\n",
      "aaaaa\n"
     ]
    }
   ],
   "source": [
    "def multiply(p1,p2):\n",
    "    return p1*p2\n",
    "\n",
    "print(multiply(8,5))\n",
    "print(multiply('a',5))\n",
    "print(multiply(5,'a'))"
   ]
  },
  {
   "cell_type": "markdown",
   "id": "619f308f",
   "metadata": {},
   "source": [
    "4. SOLUTION"
   ]
  },
  {
   "cell_type": "code",
   "execution_count": 8,
   "id": "7c618c41",
   "metadata": {},
   "outputs": [
    {
     "name": "stdout",
     "output_type": "stream",
     "text": [
      "AREA:  50.26548245743669 CIRCUMFRANCE:  25.132741228718345\n"
     ]
    }
   ],
   "source": [
    "import math\n",
    "\n",
    "def circle_status(radius):\n",
    "    area = math.pi * radius ** 2\n",
    "    circumfrance = 2 * math.pi * radius\n",
    "    return area , circumfrance\n",
    "\n",
    "a,c = circle_status(4)\n",
    "print(\"AREA: \", a , \"CIRCUMFRANCE: \", c)"
   ]
  },
  {
   "cell_type": "markdown",
   "id": "c08f10a9",
   "metadata": {},
   "source": [
    "5. SOLUTION"
   ]
  },
  {
   "cell_type": "code",
   "execution_count": 12,
   "id": "f5161748",
   "metadata": {},
   "outputs": [
    {
     "data": {
      "text/plain": [
       "'Hello User!'"
      ]
     },
     "execution_count": 12,
     "metadata": {},
     "output_type": "execute_result"
    }
   ],
   "source": [
    "def greet(name = \"User\"):\n",
    "    return \"Hello \" + name + \"!\"\n",
    "\n",
    "# greet(\"sameer\")\n",
    "greet()"
   ]
  },
  {
   "cell_type": "markdown",
   "id": "c67711f4",
   "metadata": {},
   "source": [
    "6. LAMDA FUNTION"
   ]
  },
  {
   "cell_type": "code",
   "execution_count": 14,
   "id": "41f11519",
   "metadata": {},
   "outputs": [
    {
     "name": "stdout",
     "output_type": "stream",
     "text": [
      "<class 'function'>\n",
      "27\n"
     ]
    }
   ],
   "source": [
    "cube = lambda x: x ** 3\n",
    "print(type(cube))\n",
    "print(cube(3))"
   ]
  },
  {
   "cell_type": "markdown",
   "id": "8ab1e633",
   "metadata": {},
   "source": [
    "7. SOLUTION *args"
   ]
  },
  {
   "cell_type": "code",
   "execution_count": 21,
   "id": "bf1079dc",
   "metadata": {},
   "outputs": [
    {
     "name": "stdout",
     "output_type": "stream",
     "text": [
      "1 2 3\n",
      "(1, 2, 3)\n",
      "2\n",
      "4\n",
      "6\n",
      "6\n"
     ]
    }
   ],
   "source": [
    "def summ_all(*args):\n",
    "    # pass\n",
    "    print(*args)\n",
    "    print(args)\n",
    "    for i in args:\n",
    "        print(i * 2)\n",
    "    return sum(args)\n",
    "\n",
    "# print(summ_all(1,2))\n",
    "# print(summ_all(1,2,3,4,5))\n",
    "# print(summ_all(1,2,3,4,5,6,7,8))\n",
    "print(summ_all(1,2,3))"
   ]
  },
  {
   "cell_type": "markdown",
   "id": "c1fabd5a",
   "metadata": {},
   "source": [
    "8. SOLUTION **kwargs"
   ]
  },
  {
   "cell_type": "code",
   "execution_count": 27,
   "id": "9194b628",
   "metadata": {},
   "outputs": [
    {
     "name": "stdout",
     "output_type": "stream",
     "text": [
      "name: shaktiman\n",
      "power: lazer\n",
      "enemy: dr jackel\n"
     ]
    }
   ],
   "source": [
    "def print_kwargs(**kwargs):\n",
    "    # print(\"Name\", name)\n",
    "    # print(\"Power\", power)\n",
    "    for key,value in kwargs.items():\n",
    "        print(f\"{key}: {value}\")\n",
    "\n",
    "# print_kwargs(name=\"shaktiman\",power=\"lazer\")\n",
    "# print_kwargs(power=\"lazer\",name=\"shaktiman\")\n",
    "print_kwargs(name=\"shaktiman\",power=\"lazer\",enemy=\"dr jackel\")"
   ]
  },
  {
   "cell_type": "markdown",
   "id": "be0c5c94",
   "metadata": {},
   "source": [
    "9. SOLUTION"
   ]
  },
  {
   "cell_type": "code",
   "execution_count": 40,
   "id": "59ae8065",
   "metadata": {},
   "outputs": [
    {
     "name": "stdout",
     "output_type": "stream",
     "text": [
      "2\n",
      "4\n",
      "6\n",
      "8\n",
      "10\n"
     ]
    }
   ],
   "source": [
    "# **********************************************\n",
    "# will give error\n",
    "\n",
    "# def even_generator(limit):\n",
    "#     for i in range(2, limit + 1,2):\n",
    "#         return i\n",
    "    \n",
    "# for num in even_generator(10):\n",
    "#     print(num)\n",
    "\n",
    "# ***********************************************\n",
    "# def even_generator(limit):\n",
    "#     li = []\n",
    "#     for i in range(2, limit + 1,2):\n",
    "#         li.append(i)\n",
    "#     return li\n",
    "\n",
    "# res = even_generator(10)\n",
    "# print(res)\n",
    "\n",
    "# ***********************************************\n",
    "\n",
    "def even_generator(limit):\n",
    "    for i in range(2, limit + 1,2):\n",
    "        yield i\n",
    "\n",
    "for num in even_generator(10):\n",
    "    print(num)\n"
   ]
  },
  {
   "cell_type": "markdown",
   "id": "11847b86",
   "metadata": {},
   "source": [
    "10. SOLUTION"
   ]
  },
  {
   "cell_type": "code",
   "execution_count": 41,
   "id": "620d1732",
   "metadata": {},
   "outputs": [
    {
     "data": {
      "text/plain": [
       "120"
      ]
     },
     "execution_count": 41,
     "metadata": {},
     "output_type": "execute_result"
    }
   ],
   "source": [
    "def factorial(n):\n",
    "    if n==0 :\n",
    "        return 1\n",
    "    else:\n",
    "        return n * factorial(n-1)\n",
    "    \n",
    "factorial(5)"
   ]
  }
 ],
 "metadata": {
  "kernelspec": {
   "display_name": "Python 3",
   "language": "python",
   "name": "python3"
  },
  "language_info": {
   "codemirror_mode": {
    "name": "ipython",
    "version": 3
   },
   "file_extension": ".py",
   "mimetype": "text/x-python",
   "name": "python",
   "nbconvert_exporter": "python",
   "pygments_lexer": "ipython3",
   "version": "3.13.2"
  }
 },
 "nbformat": 4,
 "nbformat_minor": 5
}
