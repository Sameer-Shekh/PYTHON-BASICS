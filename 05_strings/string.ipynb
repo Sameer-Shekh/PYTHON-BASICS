{
 "cells": [
  {
   "cell_type": "markdown",
   "id": "a05e2e0a",
   "metadata": {},
   "source": [
    "STRINGS : IMMUTABLE"
   ]
  },
  {
   "cell_type": "code",
   "execution_count": 2,
   "id": "cf67d326",
   "metadata": {},
   "outputs": [
    {
     "name": "stdout",
     "output_type": "stream",
     "text": [
      "M\n"
     ]
    },
    {
     "data": {
      "text/plain": [
       "'Masala chai'"
      ]
     },
     "execution_count": 2,
     "metadata": {},
     "output_type": "execute_result"
    }
   ],
   "source": [
    "chai = \"Masala chai\"\n",
    "first_char = chai[0]\n",
    "print(first_char)\n",
    "chai"
   ]
  },
  {
   "cell_type": "code",
   "execution_count": 4,
   "id": "836bb5a3",
   "metadata": {},
   "outputs": [
    {
     "data": {
      "text/plain": [
       "'Masala'"
      ]
     },
     "execution_count": 4,
     "metadata": {},
     "output_type": "execute_result"
    }
   ],
   "source": [
    "slice_chai = chai[0:6]\n",
    "slice_chai"
   ]
  },
  {
   "cell_type": "code",
   "execution_count": 6,
   "id": "bd9d95cd",
   "metadata": {},
   "outputs": [
    {
     "data": {
      "text/plain": [
       "'0123456789'"
      ]
     },
     "execution_count": 6,
     "metadata": {},
     "output_type": "execute_result"
    }
   ],
   "source": [
    "numlist = \"0123456789\"\n",
    "numlist[:]"
   ]
  },
  {
   "cell_type": "code",
   "execution_count": 8,
   "id": "0db4b2a5",
   "metadata": {},
   "outputs": [
    {
     "data": {
      "text/plain": [
       "'3456789'"
      ]
     },
     "execution_count": 8,
     "metadata": {},
     "output_type": "execute_result"
    }
   ],
   "source": [
    "numlist[3:]"
   ]
  },
  {
   "cell_type": "code",
   "execution_count": 9,
   "id": "49ee6d47",
   "metadata": {},
   "outputs": [
    {
     "data": {
      "text/plain": [
       "'0123456'"
      ]
     },
     "execution_count": 9,
     "metadata": {},
     "output_type": "execute_result"
    }
   ],
   "source": [
    "numlist[:7]"
   ]
  },
  {
   "cell_type": "code",
   "execution_count": 11,
   "id": "c9f42ecc",
   "metadata": {},
   "outputs": [
    {
     "data": {
      "text/plain": [
       "'0246'"
      ]
     },
     "execution_count": 11,
     "metadata": {},
     "output_type": "execute_result"
    }
   ],
   "source": [
    "numlist[0:7:2]"
   ]
  },
  {
   "cell_type": "code",
   "execution_count": 13,
   "id": "cba3e902",
   "metadata": {},
   "outputs": [
    {
     "data": {
      "text/plain": [
       "'036'"
      ]
     },
     "execution_count": 13,
     "metadata": {},
     "output_type": "execute_result"
    }
   ],
   "source": [
    "numlist[0:7:3]"
   ]
  },
  {
   "cell_type": "code",
   "execution_count": 15,
   "id": "3e577bb9",
   "metadata": {},
   "outputs": [
    {
     "data": {
      "text/plain": [
       "'Masala chai'"
      ]
     },
     "execution_count": 15,
     "metadata": {},
     "output_type": "execute_result"
    }
   ],
   "source": [
    "chai"
   ]
  },
  {
   "cell_type": "code",
   "execution_count": 17,
   "id": "b8b5029f",
   "metadata": {},
   "outputs": [
    {
     "name": "stdout",
     "output_type": "stream",
     "text": [
      "masala chai\n"
     ]
    }
   ],
   "source": [
    "print(chai.lower())"
   ]
  },
  {
   "cell_type": "code",
   "execution_count": 19,
   "id": "7763bb67",
   "metadata": {},
   "outputs": [
    {
     "name": "stdout",
     "output_type": "stream",
     "text": [
      "MASALA CHAI\n"
     ]
    }
   ],
   "source": [
    "print(chai.upper())"
   ]
  },
  {
   "cell_type": "code",
   "execution_count": 20,
   "id": "b34be238",
   "metadata": {},
   "outputs": [
    {
     "data": {
      "text/plain": [
       "'    sameer shekh      '"
      ]
     },
     "execution_count": 20,
     "metadata": {},
     "output_type": "execute_result"
    }
   ],
   "source": [
    "name = \"    sameer shekh      \"\n",
    "name"
   ]
  },
  {
   "cell_type": "code",
   "execution_count": 22,
   "id": "0bddacf8",
   "metadata": {},
   "outputs": [
    {
     "data": {
      "text/plain": [
       "'sameer shekh'"
      ]
     },
     "execution_count": 22,
     "metadata": {},
     "output_type": "execute_result"
    }
   ],
   "source": [
    "name.strip() # same as trim in js"
   ]
  },
  {
   "cell_type": "code",
   "execution_count": 23,
   "id": "a53379f4",
   "metadata": {},
   "outputs": [
    {
     "data": {
      "text/plain": [
       "'Masala chai'"
      ]
     },
     "execution_count": 23,
     "metadata": {},
     "output_type": "execute_result"
    }
   ],
   "source": [
    "chai"
   ]
  },
  {
   "cell_type": "code",
   "execution_count": 26,
   "id": "c419435a",
   "metadata": {},
   "outputs": [
    {
     "name": "stdout",
     "output_type": "stream",
     "text": [
      "Ginger chai\n"
     ]
    },
    {
     "data": {
      "text/plain": [
       "'Masala chai'"
      ]
     },
     "execution_count": 26,
     "metadata": {},
     "output_type": "execute_result"
    }
   ],
   "source": [
    "print(chai.replace(\"Masala\",\"Ginger\"))\n",
    "chai\n"
   ]
  },
  {
   "cell_type": "code",
   "execution_count": 27,
   "id": "a6b85f4f",
   "metadata": {},
   "outputs": [
    {
     "data": {
      "text/plain": [
       "['Lemon,', 'Ginger,', 'Masala,', 'Mint']"
      ]
     },
     "execution_count": 27,
     "metadata": {},
     "output_type": "execute_result"
    }
   ],
   "source": [
    "name = \"Lemon, Ginger, Masala, Mint\"\n",
    "name.split()"
   ]
  },
  {
   "cell_type": "code",
   "execution_count": 29,
   "id": "19bbc5b4",
   "metadata": {},
   "outputs": [
    {
     "data": {
      "text/plain": [
       "['Lemon', 'Ginger', 'Masala', 'Mint']"
      ]
     },
     "execution_count": 29,
     "metadata": {},
     "output_type": "execute_result"
    }
   ],
   "source": [
    "name.split(\", \")"
   ]
  },
  {
   "cell_type": "code",
   "execution_count": 32,
   "id": "9246cb52",
   "metadata": {},
   "outputs": [
    {
     "name": "stdout",
     "output_type": "stream",
     "text": [
      "Masala chai\n",
      "7\n"
     ]
    }
   ],
   "source": [
    "print(chai)\n",
    "print(chai.find(\"chai\"))"
   ]
  },
  {
   "cell_type": "code",
   "execution_count": 33,
   "id": "015e6365",
   "metadata": {},
   "outputs": [
    {
     "name": "stdout",
     "output_type": "stream",
     "text": [
      "3\n"
     ]
    }
   ],
   "source": [
    "name = \"Masala Chai Chai Chai\"\n",
    "print(name.count(\"Chai\"))"
   ]
  },
  {
   "cell_type": "code",
   "execution_count": null,
   "id": "195081c8",
   "metadata": {},
   "outputs": [
    {
     "data": {
      "text/plain": [
       "'I order {} cups of chai'"
      ]
     },
     "execution_count": 35,
     "metadata": {},
     "output_type": "execute_result"
    }
   ],
   "source": [
    "chai_type = \"Masala chai\"\n",
    "quantity = 2\n",
    "order = \"I order {} cups of {} chai\"\n",
    "order "
   ]
  },
  {
   "cell_type": "code",
   "execution_count": null,
   "id": "97b4ba03",
   "metadata": {},
   "outputs": [
    {
     "name": "stdout",
     "output_type": "stream",
     "text": [
      "I order 2 cups of chai\n"
     ]
    }
   ],
   "source": [
    "print(order.format(quantity,chai_type))"
   ]
  },
  {
   "cell_type": "code",
   "execution_count": 39,
   "id": "e851685d",
   "metadata": {},
   "outputs": [
    {
     "data": {
      "text/plain": [
       "['Lemon', 'Masala', 'Ginger']"
      ]
     },
     "execution_count": 39,
     "metadata": {},
     "output_type": "execute_result"
    }
   ],
   "source": [
    "chai_variety = [\"Lemon\",\"Masala\",\"Ginger\"]\n",
    "chai_variety\n"
   ]
  },
  {
   "cell_type": "code",
   "execution_count": 45,
   "id": "8d40a33c",
   "metadata": {},
   "outputs": [
    {
     "name": "stdout",
     "output_type": "stream",
     "text": [
      "LemonMasalaGinger\n",
      "Lemon Masala Ginger\n",
      "Lemon-Masala-Ginger\n",
      "Lemon,Masala,Ginger\n"
     ]
    }
   ],
   "source": [
    "print(\"\".join(chai_variety))\n",
    "print(\" \".join(chai_variety))\n",
    "print(\"-\".join(chai_variety))\n",
    "print(\",\".join(chai_variety))"
   ]
  },
  {
   "cell_type": "code",
   "execution_count": 47,
   "id": "520d956b",
   "metadata": {},
   "outputs": [
    {
     "data": {
      "text/plain": [
       "'Masala chai'"
      ]
     },
     "execution_count": 47,
     "metadata": {},
     "output_type": "execute_result"
    }
   ],
   "source": [
    "chai"
   ]
  },
  {
   "cell_type": "code",
   "execution_count": 49,
   "id": "382ad948",
   "metadata": {},
   "outputs": [
    {
     "name": "stdout",
     "output_type": "stream",
     "text": [
      "M\n",
      "a\n",
      "s\n",
      "a\n",
      "l\n",
      "a\n",
      " \n",
      "c\n",
      "h\n",
      "a\n",
      "i\n"
     ]
    }
   ],
   "source": [
    "for letter in chai:\n",
    "    print(letter)"
   ]
  },
  {
   "cell_type": "code",
   "execution_count": 51,
   "id": "557eef8b",
   "metadata": {},
   "outputs": [
    {
     "data": {
      "text/plain": [
       "'He Said, \"Masala Chai is Awesome\" '"
      ]
     },
     "execution_count": 51,
     "metadata": {},
     "output_type": "execute_result"
    }
   ],
   "source": [
    "para = \"He Said, \\\"Masala Chai is Awesome\\\" \"\n",
    "para"
   ]
  },
  {
   "cell_type": "code",
   "execution_count": 56,
   "id": "e791a21d",
   "metadata": {},
   "outputs": [
    {
     "name": "stdout",
     "output_type": "stream",
     "text": [
      "masala\n",
      "chai\n"
     ]
    }
   ],
   "source": [
    "chai = \"masala\\nchai\"\n",
    "print(chai)"
   ]
  },
  {
   "cell_type": "code",
   "execution_count": 58,
   "id": "ba324c15",
   "metadata": {},
   "outputs": [
    {
     "name": "stdout",
     "output_type": "stream",
     "text": [
      "masala\\nchai\n"
     ]
    }
   ],
   "source": [
    "chai = r\"masala\\nchai\"\n",
    "chai\n",
    "print(chai)"
   ]
  }
 ],
 "metadata": {
  "kernelspec": {
   "display_name": "Python 3",
   "language": "python",
   "name": "python3"
  },
  "language_info": {
   "codemirror_mode": {
    "name": "ipython",
    "version": 3
   },
   "file_extension": ".py",
   "mimetype": "text/x-python",
   "name": "python",
   "nbconvert_exporter": "python",
   "pygments_lexer": "ipython3",
   "version": "3.13.2"
  }
 },
 "nbformat": 4,
 "nbformat_minor": 5
}
