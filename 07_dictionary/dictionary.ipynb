{
 "cells": [
  {
   "cell_type": "markdown",
   "id": "2222f567",
   "metadata": {},
   "source": [
    "DICTIONARY"
   ]
  },
  {
   "cell_type": "code",
   "execution_count": 25,
   "id": "a2f3c04f",
   "metadata": {},
   "outputs": [
    {
     "data": {
      "text/plain": [
       "{'Masala': 'Spicy', 'Ginger': 'Zesty', 'Green': 'Mild'}"
      ]
     },
     "execution_count": 25,
     "metadata": {},
     "output_type": "execute_result"
    }
   ],
   "source": [
    "chai_types = {\"Masala\":\"Spicy\",\"Ginger\":\"Zesty\",\"Green\":\"Mild\"}\n",
    "chai_types"
   ]
  },
  {
   "cell_type": "code",
   "execution_count": 26,
   "id": "d3062935",
   "metadata": {},
   "outputs": [
    {
     "data": {
      "text/plain": [
       "'Spicy'"
      ]
     },
     "execution_count": 26,
     "metadata": {},
     "output_type": "execute_result"
    }
   ],
   "source": [
    "chai_types[\"Masala\"]"
   ]
  },
  {
   "cell_type": "code",
   "execution_count": 27,
   "id": "fcc63519",
   "metadata": {},
   "outputs": [
    {
     "data": {
      "text/plain": [
       "'Zesty'"
      ]
     },
     "execution_count": 27,
     "metadata": {},
     "output_type": "execute_result"
    }
   ],
   "source": [
    "chai_types.get(\"Ginger\")"
   ]
  },
  {
   "cell_type": "code",
   "execution_count": 28,
   "id": "181c6b9c",
   "metadata": {},
   "outputs": [],
   "source": [
    "# print(chai_types.get(\"Gingery\")) no error \n",
    "# print(chai_types[\"Masalaa\"]) gives error"
   ]
  },
  {
   "cell_type": "code",
   "execution_count": 29,
   "id": "f084bb4b",
   "metadata": {},
   "outputs": [
    {
     "data": {
      "text/plain": [
       "{'Masala': 'Spicy', 'Ginger': 'Zesty', 'Green': 'Fresh'}"
      ]
     },
     "execution_count": 29,
     "metadata": {},
     "output_type": "execute_result"
    }
   ],
   "source": [
    "chai_types[\"Green\"] = \"Fresh\"\n",
    "chai_types"
   ]
  },
  {
   "cell_type": "markdown",
   "id": "18f6e296",
   "metadata": {},
   "source": [
    "SHOW KEYS\n"
   ]
  },
  {
   "cell_type": "code",
   "execution_count": 30,
   "id": "75dd2f85",
   "metadata": {},
   "outputs": [
    {
     "name": "stdout",
     "output_type": "stream",
     "text": [
      "Masala\n",
      "Ginger\n",
      "Green\n"
     ]
    }
   ],
   "source": [
    "for chai in chai_types:\n",
    "    print(chai)"
   ]
  },
  {
   "cell_type": "code",
   "execution_count": 31,
   "id": "01c70a5f",
   "metadata": {},
   "outputs": [
    {
     "name": "stdout",
     "output_type": "stream",
     "text": [
      "Masala -> Spicy\n",
      "Ginger -> Zesty\n",
      "Green -> Fresh\n"
     ]
    }
   ],
   "source": [
    "for chai in chai_types:\n",
    "    print(chai,\"->\",chai_types[chai])"
   ]
  },
  {
   "cell_type": "code",
   "execution_count": 32,
   "id": "96941c2c",
   "metadata": {},
   "outputs": [
    {
     "name": "stdout",
     "output_type": "stream",
     "text": [
      "Masala Spicy\n",
      "Ginger Zesty\n",
      "Green Fresh\n"
     ]
    }
   ],
   "source": [
    "for key, values in chai_types.items():\n",
    "    print(key,values)"
   ]
  },
  {
   "cell_type": "code",
   "execution_count": 33,
   "id": "92e3bf73",
   "metadata": {},
   "outputs": [
    {
     "name": "stdout",
     "output_type": "stream",
     "text": [
      "3\n"
     ]
    }
   ],
   "source": [
    "print(len(chai_types))"
   ]
  },
  {
   "cell_type": "code",
   "execution_count": 34,
   "id": "710c1262",
   "metadata": {},
   "outputs": [
    {
     "data": {
      "text/plain": [
       "{'Masala': 'Spicy', 'Ginger': 'Zesty', 'Green': 'Fresh', 'Earl Gray': 'Citrus'}"
      ]
     },
     "execution_count": 34,
     "metadata": {},
     "output_type": "execute_result"
    }
   ],
   "source": [
    "chai_types[\"Earl Gray\"] = \"Citrus\"\n",
    "chai_types"
   ]
  },
  {
   "cell_type": "code",
   "execution_count": 35,
   "id": "bb9806c0",
   "metadata": {},
   "outputs": [
    {
     "data": {
      "text/plain": [
       "'Zesty'"
      ]
     },
     "execution_count": 35,
     "metadata": {},
     "output_type": "execute_result"
    }
   ],
   "source": [
    "chai_types.pop(\"Ginger\")"
   ]
  },
  {
   "cell_type": "code",
   "execution_count": 37,
   "id": "47ef600f",
   "metadata": {},
   "outputs": [
    {
     "data": {
      "text/plain": [
       "{'Masala': 'Spicy', 'Green': 'Fresh', 'Earl Gray': 'Citrus'}"
      ]
     },
     "execution_count": 37,
     "metadata": {},
     "output_type": "execute_result"
    }
   ],
   "source": [
    "chai_types"
   ]
  },
  {
   "cell_type": "markdown",
   "id": "c1e68178",
   "metadata": {},
   "source": [
    "DELETE LAST VALUE IN DICTIONARY"
   ]
  },
  {
   "cell_type": "code",
   "execution_count": 38,
   "id": "2790785a",
   "metadata": {},
   "outputs": [
    {
     "data": {
      "text/plain": [
       "{'Masala': 'Spicy', 'Green': 'Fresh'}"
      ]
     },
     "execution_count": 38,
     "metadata": {},
     "output_type": "execute_result"
    }
   ],
   "source": [
    "chai_types.popitem()\n",
    "chai_types"
   ]
  },
  {
   "cell_type": "code",
   "execution_count": 39,
   "id": "4897c294",
   "metadata": {},
   "outputs": [
    {
     "data": {
      "text/plain": [
       "{'Masala': 'Spicy'}"
      ]
     },
     "execution_count": 39,
     "metadata": {},
     "output_type": "execute_result"
    }
   ],
   "source": [
    "del chai_types['Green']\n",
    "chai_types"
   ]
  },
  {
   "cell_type": "code",
   "execution_count": 41,
   "id": "50285358",
   "metadata": {},
   "outputs": [
    {
     "data": {
      "text/plain": [
       "{0: 0, 1: 1, 2: 4, 3: 9, 4: 16}"
      ]
     },
     "execution_count": 41,
     "metadata": {},
     "output_type": "execute_result"
    }
   ],
   "source": [
    "sqr_num =  {x:x**2 for x in range(5)}\n",
    "sqr_num"
   ]
  },
  {
   "cell_type": "code",
   "execution_count": 44,
   "id": "d880180e",
   "metadata": {},
   "outputs": [
    {
     "data": {
      "text/plain": [
       "{}"
      ]
     },
     "execution_count": 44,
     "metadata": {},
     "output_type": "execute_result"
    }
   ],
   "source": [
    "sqr_num.clear()\n",
    "sqr_num"
   ]
  },
  {
   "cell_type": "code",
   "execution_count": 45,
   "id": "86d4cc03",
   "metadata": {},
   "outputs": [
    {
     "data": {
      "text/plain": [
       "['1', '2', '3']"
      ]
     },
     "execution_count": 45,
     "metadata": {},
     "output_type": "execute_result"
    }
   ],
   "source": [
    "keys = [\"1\",\"2\",\"3\"]\n",
    "keys"
   ]
  },
  {
   "cell_type": "code",
   "execution_count": 46,
   "id": "f6898533",
   "metadata": {},
   "outputs": [
    {
     "data": {
      "text/plain": [
       "{'1': 'Delicieous', '2': 'Delicieous', '3': 'Delicieous'}"
      ]
     },
     "execution_count": 46,
     "metadata": {},
     "output_type": "execute_result"
    }
   ],
   "source": [
    "defaultvalue = \"Delicieous\"\n",
    "new_dict = dict.fromkeys(keys,defaultvalue)\n",
    "new_dict"
   ]
  }
 ],
 "metadata": {
  "kernelspec": {
   "display_name": "Python 3",
   "language": "python",
   "name": "python3"
  },
  "language_info": {
   "codemirror_mode": {
    "name": "ipython",
    "version": 3
   },
   "file_extension": ".py",
   "mimetype": "text/x-python",
   "name": "python",
   "nbconvert_exporter": "python",
   "pygments_lexer": "ipython3",
   "version": "3.13.2"
  }
 },
 "nbformat": 4,
 "nbformat_minor": 5
}
