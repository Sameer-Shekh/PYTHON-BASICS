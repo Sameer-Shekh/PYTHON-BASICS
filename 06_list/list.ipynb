{
 "cells": [
  {
   "cell_type": "markdown",
   "id": "935d2149",
   "metadata": {},
   "source": [
    "LIST "
   ]
  },
  {
   "cell_type": "code",
   "execution_count": 6,
   "id": "52e6115c",
   "metadata": {},
   "outputs": [
    {
     "data": {
      "text/plain": [
       "['spiderman', 'batman', 'captain', 'ironman']"
      ]
     },
     "execution_count": 6,
     "metadata": {},
     "output_type": "execute_result"
    }
   ],
   "source": [
    "\n",
    "heros = [\"spiderman\", \"batman\", \"captain\", \"ironman\"]\n",
    "heros"
   ]
  },
  {
   "cell_type": "code",
   "execution_count": 8,
   "id": "06b57a89",
   "metadata": {},
   "outputs": [
    {
     "name": "stdout",
     "output_type": "stream",
     "text": [
      "['spiderman', 'batman', 'captain', 'ironman']\n"
     ]
    }
   ],
   "source": [
    "print(heros)    "
   ]
  },
  {
   "cell_type": "code",
   "execution_count": 10,
   "id": "2c0de0a7",
   "metadata": {},
   "outputs": [
    {
     "name": "stdout",
     "output_type": "stream",
     "text": [
      "spiderman\n",
      "batman\n",
      "captain\n",
      "ironman\n"
     ]
    }
   ],
   "source": [
    "print(heros[0])\n",
    "print(heros[1])\n",
    "print(heros[2])\n",
    "print(heros[3])"
   ]
  },
  {
   "cell_type": "code",
   "execution_count": 13,
   "id": "aed07762",
   "metadata": {},
   "outputs": [
    {
     "name": "stdout",
     "output_type": "stream",
     "text": [
      "ironman\n"
     ]
    }
   ],
   "source": [
    "print(heros[-1])"
   ]
  },
  {
   "cell_type": "code",
   "execution_count": 15,
   "id": "1f8030af",
   "metadata": {},
   "outputs": [
    {
     "name": "stdout",
     "output_type": "stream",
     "text": [
      "['batman', 'captain']\n"
     ]
    }
   ],
   "source": [
    "print(heros[1:3])"
   ]
  },
  {
   "cell_type": "code",
   "execution_count": 17,
   "id": "73e836da",
   "metadata": {},
   "outputs": [
    {
     "name": "stdout",
     "output_type": "stream",
     "text": [
      "['spiderman', 'batman', 'captain', 'hulk']\n"
     ]
    }
   ],
   "source": [
    "heros[3] = \"hulk\"\n",
    "print(heros)"
   ]
  },
  {
   "cell_type": "code",
   "execution_count": 19,
   "id": "5d71a481",
   "metadata": {},
   "outputs": [
    {
     "data": {
      "text/plain": [
       "['spiderman',\n",
       " 'h',\n",
       " 'o',\n",
       " 'w',\n",
       " 'k',\n",
       " 'i',\n",
       " 'e',\n",
       " 'o',\n",
       " 'w',\n",
       " 'k',\n",
       " 'i',\n",
       " 'e',\n",
       " 'captain',\n",
       " 'hulk']"
      ]
     },
     "execution_count": 19,
     "metadata": {},
     "output_type": "execute_result"
    }
   ],
   "source": [
    "heros[1:2] = \"howkie\"\n",
    "heros"
   ]
  },
  {
   "cell_type": "code",
   "execution_count": 22,
   "id": "43158218",
   "metadata": {},
   "outputs": [
    {
     "data": {
      "text/plain": [
       "['spiderman', 'batman', 'captain', 'ironman']"
      ]
     },
     "execution_count": 22,
     "metadata": {},
     "output_type": "execute_result"
    }
   ],
   "source": [
    "heros = [\"spiderman\", \"batman\", \"captain\", \"ironman\"]\n",
    "heros"
   ]
  },
  {
   "cell_type": "code",
   "execution_count": 24,
   "id": "703fdcb0",
   "metadata": {},
   "outputs": [
    {
     "data": {
      "text/plain": [
       "['spiderman', 'howkie', 'captain', 'ironman']"
      ]
     },
     "execution_count": 24,
     "metadata": {},
     "output_type": "execute_result"
    }
   ],
   "source": [
    "heros[1:2] = [\"howkie\"]\n",
    "heros\n",
    "# we can also add multiple value and update it"
   ]
  },
  {
   "cell_type": "code",
   "execution_count": 26,
   "id": "272dbe17",
   "metadata": {},
   "outputs": [
    {
     "data": {
      "text/plain": [
       "[]"
      ]
     },
     "execution_count": 26,
     "metadata": {},
     "output_type": "execute_result"
    }
   ],
   "source": [
    "heros[1:1]"
   ]
  },
  {
   "cell_type": "code",
   "execution_count": 39,
   "id": "607657ec",
   "metadata": {},
   "outputs": [
    {
     "data": {
      "text/plain": [
       "['spiderman', 'test', 'test', 'howkie', 'captain', 'ironman']"
      ]
     },
     "execution_count": 39,
     "metadata": {},
     "output_type": "execute_result"
    }
   ],
   "source": [
    "heros[1:1] = [\"test\",\"test\"]\n",
    "heros"
   ]
  },
  {
   "cell_type": "code",
   "execution_count": 40,
   "id": "e123b973",
   "metadata": {},
   "outputs": [
    {
     "data": {
      "text/plain": [
       "['spiderman', 'howkie', 'captain', 'ironman']"
      ]
     },
     "execution_count": 40,
     "metadata": {},
     "output_type": "execute_result"
    }
   ],
   "source": [
    "heros[1:3] = [] # insert nothing - delete\n",
    "heros"
   ]
  },
  {
   "cell_type": "code",
   "execution_count": 47,
   "id": "48b30dcb",
   "metadata": {},
   "outputs": [
    {
     "name": "stdout",
     "output_type": "stream",
     "text": [
      "spiderman\n",
      "howkie\n",
      "captain\n",
      "ironman\n",
      "spiderman-howkie-captain-ironman-"
     ]
    }
   ],
   "source": [
    "for hero in heros:\n",
    "    print(hero)\n",
    "    \n",
    "for hero in heros:\n",
    "    print(hero,end=\"-\")"
   ]
  },
  {
   "cell_type": "code",
   "execution_count": 48,
   "id": "495d4d80",
   "metadata": {},
   "outputs": [
    {
     "data": {
      "text/plain": [
       "['spiderman', 'howkie', 'captain', 'ironman']"
      ]
     },
     "execution_count": 48,
     "metadata": {},
     "output_type": "execute_result"
    }
   ],
   "source": [
    "heros"
   ]
  },
  {
   "cell_type": "code",
   "execution_count": 52,
   "id": "8089b9ed",
   "metadata": {},
   "outputs": [
    {
     "name": "stdout",
     "output_type": "stream",
     "text": [
      "I Love SpiderMan\n"
     ]
    }
   ],
   "source": [
    "if \"spiderman\" in heros:\n",
    "    print(\"I Love SpiderMan\")"
   ]
  },
  {
   "cell_type": "code",
   "execution_count": 54,
   "id": "11bfeb31",
   "metadata": {},
   "outputs": [
    {
     "data": {
      "text/plain": [
       "['spiderman', 'howkie', 'captain', 'ironman', 'superman', 'superman']"
      ]
     },
     "execution_count": 54,
     "metadata": {},
     "output_type": "execute_result"
    }
   ],
   "source": [
    "heros.append(\"superman\")\n",
    "heros"
   ]
  },
  {
   "cell_type": "code",
   "execution_count": 57,
   "id": "d148c9a8",
   "metadata": {},
   "outputs": [
    {
     "data": {
      "text/plain": [
       "['spiderman', 'howkie', 'captain']"
      ]
     },
     "execution_count": 57,
     "metadata": {},
     "output_type": "execute_result"
    }
   ],
   "source": [
    "heros.pop()\n",
    "heros"
   ]
  },
  {
   "cell_type": "code",
   "execution_count": 62,
   "id": "3e93fb41",
   "metadata": {},
   "outputs": [
    {
     "data": {
      "text/plain": [
       "['spiderman', 'howkie', 'superman', 'superman']"
      ]
     },
     "execution_count": 62,
     "metadata": {},
     "output_type": "execute_result"
    }
   ],
   "source": [
    "heros.append(\"superman\")\n",
    "heros"
   ]
  },
  {
   "cell_type": "code",
   "execution_count": 64,
   "id": "89ba55b5",
   "metadata": {},
   "outputs": [
    {
     "data": {
      "text/plain": [
       "['spiderman', 'howkie', 'superman']"
      ]
     },
     "execution_count": 64,
     "metadata": {},
     "output_type": "execute_result"
    }
   ],
   "source": [
    "heros.remove(\"superman\")\n",
    "heros"
   ]
  },
  {
   "cell_type": "code",
   "execution_count": 65,
   "id": "0f36608f",
   "metadata": {},
   "outputs": [
    {
     "data": {
      "text/plain": [
       "['spiderman', 'batman', 'howkie', 'superman']"
      ]
     },
     "execution_count": 65,
     "metadata": {},
     "output_type": "execute_result"
    }
   ],
   "source": [
    "heros.insert(1,\"batman\")\n",
    "heros"
   ]
  },
  {
   "cell_type": "code",
   "execution_count": null,
   "id": "d805cd90",
   "metadata": {},
   "outputs": [],
   "source": [
    "# heros_copy = heros // have a same reference in memory\n",
    "# heros_copy = heros.copy()   returns a shallow copy mean different reference in the memory"
   ]
  },
  {
   "cell_type": "code",
   "execution_count": 66,
   "id": "bc0ddcce",
   "metadata": {},
   "outputs": [
    {
     "data": {
      "text/plain": [
       "[0, 1, 4, 9, 16, 25, 36, 49, 64, 81]"
      ]
     },
     "execution_count": 66,
     "metadata": {},
     "output_type": "execute_result"
    }
   ],
   "source": [
    "sqr_num = [x**2 for x in range(10)]\n",
    "sqr_num"
   ]
  }
 ],
 "metadata": {
  "kernelspec": {
   "display_name": "Python 3",
   "language": "python",
   "name": "python3"
  },
  "language_info": {
   "codemirror_mode": {
    "name": "ipython",
    "version": 3
   },
   "file_extension": ".py",
   "mimetype": "text/x-python",
   "name": "python",
   "nbconvert_exporter": "python",
   "pygments_lexer": "ipython3",
   "version": "3.13.2"
  }
 },
 "nbformat": 4,
 "nbformat_minor": 5
}
